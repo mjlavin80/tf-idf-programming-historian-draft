{
 "cells": [
  {
   "cell_type": "code",
   "execution_count": 157,
   "metadata": {},
   "outputs": [],
   "source": [
    "import nltk \n",
    "gen = nltk.corpus.genesis.paras()"
   ]
  },
  {
   "cell_type": "code",
   "execution_count": 158,
   "metadata": {},
   "outputs": [
    {
     "data": {
      "text/plain": [
       "1467"
      ]
     },
     "execution_count": 158,
     "metadata": {},
     "output_type": "execute_result"
    }
   ],
   "source": [
    "len(gen[0])"
   ]
  },
  {
   "cell_type": "code",
   "execution_count": 159,
   "metadata": {},
   "outputs": [],
   "source": [
    "from collections import Counter\n",
    "gen_proc = []\n",
    "for i in gen[0][:8]:\n",
    "    #lowercase\n",
    "    proc = [u.lower() for u in i]\n",
    "    #remove punctuation\n",
    "    proc = [v for v in proc if v.isalpha()]\n",
    "    gen_proc.append(proc)\n",
    "gen_strings = [\" \".join(e) for e in gen_proc]\n",
    "gen_counts = [Counter(e) for e in gen_proc]"
   ]
  },
  {
   "cell_type": "code",
   "execution_count": 160,
   "metadata": {},
   "outputs": [
    {
     "data": {
      "text/plain": [
       "u'in the beginning god created the heaven and the earth'"
      ]
     },
     "execution_count": 160,
     "metadata": {},
     "output_type": "execute_result"
    }
   ],
   "source": [
    "gen_strings[0]"
   ]
  },
  {
   "cell_type": "code",
   "execution_count": 161,
   "metadata": {},
   "outputs": [
    {
     "data": {
      "text/plain": [
       "10"
      ]
     },
     "execution_count": 161,
     "metadata": {},
     "output_type": "execute_result"
    }
   ],
   "source": [
    "sum(gen_counts[0].values())"
   ]
  },
  {
   "cell_type": "code",
   "execution_count": 164,
   "metadata": {},
   "outputs": [],
   "source": [
    "from sklearn.feature_extraction.text import TfidfVectorizer\n",
    "v1 = TfidfVectorizer(stop_words=\"english\", use_idf=False, smooth_idf=False, sublinear_tf=False)\n",
    "X1 = v1.fit_transform(gen_strings)\n",
    "freq_norm = X1.toarray()"
   ]
  },
  {
   "cell_type": "code",
   "execution_count": 165,
   "metadata": {},
   "outputs": [
    {
     "data": {
      "text/plain": [
       "True"
      ]
     },
     "execution_count": 165,
     "metadata": {},
     "output_type": "execute_result"
    }
   ],
   "source": [
    "from sklearn.feature_extraction.text import CountVectorizer\n",
    "v2 = CountVectorizer(stop_words=\"english\")\n",
    "X2 = v2.fit_transform(gen_strings)\n",
    "counts = X2.toarray()\n",
    "len(v2.get_feature_names()) == len(v1.get_feature_names())"
   ]
  },
  {
   "cell_type": "code",
   "execution_count": 166,
   "metadata": {},
   "outputs": [],
   "source": [
    "import pandas as pd \n",
    "df = pd.DataFrame.from_records(counts, columns=v2.get_feature_names())\n",
    "df.to_csv('genesis_counts.csv')"
   ]
  },
  {
   "cell_type": "code",
   "execution_count": 167,
   "metadata": {},
   "outputs": [],
   "source": [
    "totals = df.sum(axis=1)\n",
    "result = []\n",
    "for row in df.itertuples():\n",
    "    new_row = [(o*1.0)/totals[row[0]] for o in row]\n",
    "    new_row = new_row[1:]\n",
    "    result.append(new_row)\n",
    "\n",
    "df2 = pd.DataFrame.from_records(freq_norm, columns=v2.get_feature_names())\n",
    "#df2\n",
    "df2.to_csv('genesis_freq_norm.csv')"
   ]
  },
  {
   "cell_type": "code",
   "execution_count": 193,
   "metadata": {},
   "outputs": [
    {
     "data": {
      "text/plain": [
       "u'l2'"
      ]
     },
     "execution_count": 193,
     "metadata": {},
     "output_type": "execute_result"
    }
   ],
   "source": [
    "v4 = TfidfVectorizer(stop_words=\"english\", use_idf=True, smooth_idf=False, sublinear_tf=False)\n",
    "X4 = v4.fit_transform(gen_strings)\n",
    "freq4 = X4.toarray()\n",
    "\n",
    "df4 = pd.DataFrame.from_records(freq4, columns=v4.get_feature_names())\n",
    "df4\n",
    "#df4.to_csv('genesis_tf_idf.csv')\n",
    "v4.norm"
   ]
  },
  {
   "cell_type": "code",
   "execution_count": 169,
   "metadata": {},
   "outputs": [],
   "source": [
    "v5 = TfidfVectorizer(stop_words=\"english\", use_idf=True, smooth_idf=True, sublinear_tf=False)\n",
    "X5 = v5.fit_transform(gen_strings)\n",
    "freq5 = X5.toarray()\n",
    "\n",
    "df5 = pd.DataFrame.from_records(freq5, columns=v5.get_feature_names())\n",
    "df5\n",
    "df5.to_csv('genesis_tf_freq_smooth.csv')"
   ]
  },
  {
   "cell_type": "code",
   "execution_count": 170,
   "metadata": {},
   "outputs": [],
   "source": [
    "v6 = TfidfVectorizer(stop_words=\"english\", use_idf=True, smooth_idf=True, sublinear_tf=True)\n",
    "X6 = v6.fit_transform(gen_strings)\n",
    "freq6 = X6.toarray()\n",
    "\n",
    "df6 = pd.DataFrame.from_records(freq6, columns=v6.get_feature_names())\n",
    "df6\n",
    "df6.to_csv('genesis_tf_idf_smooth_sublinear.csv')"
   ]
  },
  {
   "cell_type": "code",
   "execution_count": 33,
   "metadata": {},
   "outputs": [
    {
     "data": {
      "text/plain": [
       "TfidfVectorizer(analyzer=u'word', binary=False, decode_error=u'strict',\n",
       "        dtype=<type 'numpy.int64'>, encoding=u'utf-8', input=u'content',\n",
       "        lowercase=True, max_df=1.0, max_features=None, min_df=1,\n",
       "        ngram_range=(1, 1), norm=u'l2', preprocessor=None,\n",
       "        smooth_idf=False, stop_words='english', strip_accents=None,\n",
       "        sublinear_tf=False, token_pattern=u'(?u)\\\\b\\\\w\\\\w+\\\\b',\n",
       "        tokenizer=None, use_idf=False, vocabulary=None)"
      ]
     },
     "execution_count": 33,
     "metadata": {},
     "output_type": "execute_result"
    }
   ],
   "source": [
    "v1"
   ]
  },
  {
   "cell_type": "code",
   "execution_count": 347,
   "metadata": {},
   "outputs": [
    {
     "data": {
      "text/plain": [
       "1.3771681378441893"
      ]
     },
     "execution_count": 347,
     "metadata": {},
     "output_type": "execute_result"
    }
   ],
   "source": [
    "import numpy as np\n",
    "\"\"\"\n",
    "The formula that is used to compute the tf-idf of term t is\n",
    "    tf-idf(d, t) = tf(t) * idf(d, t), and the idf is computed as\n",
    "    idf(d, t) = log [ n / df(d, t) ] + 1 (if ``smooth_idf=False``),\n",
    "    where n is the total number of documents and df(d, t) is the\n",
    "    document frequency; the document frequency is the number of documents d\n",
    "    that contain term t.\n",
    "\"\"\"\n",
    "tf = .4472136\n",
    "n = 8.0\n",
    "df = 1.0\n",
    "idf = np.log(n/df) + 1.0\n",
    "tf*idf"
   ]
  },
  {
   "cell_type": "code",
   "execution_count": 350,
   "metadata": {},
   "outputs": [
    {
     "data": {
      "text/plain": [
       "1.1508187183931795"
      ]
     },
     "execution_count": 350,
     "metadata": {},
     "output_type": "execute_result"
    }
   ],
   "source": [
    "solved_idf = 0.514661782/tf\n",
    "solved_tf = 0.514661782/idf\n",
    "solved_idf"
   ]
  },
  {
   "cell_type": "code",
   "execution_count": 321,
   "metadata": {},
   "outputs": [
    {
     "data": {
      "text/plain": [
       "0.15384615384615385"
      ]
     },
     "execution_count": 321,
     "metadata": {},
     "output_type": "execute_result"
    }
   ],
   "source": [
    "2.0/13"
   ]
  },
  {
   "cell_type": "code",
   "execution_count": 349,
   "metadata": {},
   "outputs": [
    {
     "data": {
      "text/plain": [
       "TfidfVectorizer(analyzer=u'word', binary=False, decode_error=u'strict',\n",
       "        dtype=<type 'numpy.int64'>, encoding=u'utf-8', input=u'content',\n",
       "        lowercase=True, max_df=1.0, max_features=None, min_df=1,\n",
       "        ngram_range=(1, 1), norm=u'l2', preprocessor=None,\n",
       "        smooth_idf=False, stop_words='english', strip_accents=None,\n",
       "        sublinear_tf=False, token_pattern=u'(?u)\\\\b\\\\w\\\\w+\\\\b',\n",
       "        tokenizer=None, use_idf=True, vocabulary=None)"
      ]
     },
     "execution_count": 349,
     "metadata": {},
     "output_type": "execute_result"
    }
   ],
   "source": [
    "from sklearn.preprocessing import normalize\n",
    "test = v4.fit(gen_strings)\n",
    "test"
   ]
  },
  {
   "cell_type": "code",
   "execution_count": null,
   "metadata": {},
   "outputs": [],
   "source": []
  }
 ],
 "metadata": {
  "kernelspec": {
   "display_name": "Python 3",
   "language": "python",
   "name": "python3"
  },
  "language_info": {
   "codemirror_mode": {
    "name": "ipython",
    "version": 2
   },
   "file_extension": ".py",
   "mimetype": "text/x-python",
   "name": "python",
   "nbconvert_exporter": "python",
   "pygments_lexer": "ipython2",
   "version": "2.7.10"
  }
 },
 "nbformat": 4,
 "nbformat_minor": 2
}
